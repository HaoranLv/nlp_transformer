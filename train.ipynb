{
 "cells": [
  {
   "cell_type": "code",
   "execution_count": 4,
   "id": "fb86e524",
   "metadata": {},
   "outputs": [
    {
     "name": "stdout",
     "output_type": "stream",
     "text": [
      "Requirement already satisfied: accelerate in /home/ec2-user/anaconda3/envs/mxnet_latest_p37/lib/python3.7/site-packages (from -r examples/pytorch/summarization/requirements.txt (line 1)) (0.5.1)\n",
      "Requirement already satisfied: datasets>=1.8.0 in /home/ec2-user/anaconda3/envs/mxnet_latest_p37/lib/python3.7/site-packages (from -r examples/pytorch/summarization/requirements.txt (line 2)) (1.14.0)\n",
      "Requirement already satisfied: sentencepiece!=0.1.92 in /home/ec2-user/anaconda3/envs/mxnet_latest_p37/lib/python3.7/site-packages (from -r examples/pytorch/summarization/requirements.txt (line 3)) (0.1.96)\n",
      "Requirement already satisfied: protobuf in /home/ec2-user/anaconda3/envs/mxnet_latest_p37/lib/python3.7/site-packages (from -r examples/pytorch/summarization/requirements.txt (line 4)) (3.15.2)\n",
      "Requirement already satisfied: rouge-score in /home/ec2-user/anaconda3/envs/mxnet_latest_p37/lib/python3.7/site-packages (from -r examples/pytorch/summarization/requirements.txt (line 5)) (0.0.4)\n",
      "Requirement already satisfied: nltk in /home/ec2-user/anaconda3/envs/mxnet_latest_p37/lib/python3.7/site-packages (from -r examples/pytorch/summarization/requirements.txt (line 6)) (3.4.4)\n",
      "Requirement already satisfied: py7zr in /home/ec2-user/anaconda3/envs/mxnet_latest_p37/lib/python3.7/site-packages (from -r examples/pytorch/summarization/requirements.txt (line 7)) (0.16.2)\n",
      "Requirement already satisfied: torch>=1.3 in /home/ec2-user/anaconda3/envs/mxnet_latest_p37/lib/python3.7/site-packages (from -r examples/pytorch/summarization/requirements.txt (line 8)) (1.9.1)\n",
      "Requirement already satisfied: pyyaml in /home/ec2-user/anaconda3/envs/mxnet_latest_p37/lib/python3.7/site-packages (from accelerate->-r examples/pytorch/summarization/requirements.txt (line 1)) (5.4.1)\n",
      "Requirement already satisfied: numpy>=1.17 in /home/ec2-user/anaconda3/envs/mxnet_latest_p37/lib/python3.7/site-packages (from accelerate->-r examples/pytorch/summarization/requirements.txt (line 1)) (1.20.1)\n",
      "Requirement already satisfied: pyarrow!=4.0.0,>=1.0.0 in /home/ec2-user/anaconda3/envs/mxnet_latest_p37/lib/python3.7/site-packages (from datasets>=1.8.0->-r examples/pytorch/summarization/requirements.txt (line 2)) (5.0.0)\n",
      "Requirement already satisfied: pandas in /home/ec2-user/anaconda3/envs/mxnet_latest_p37/lib/python3.7/site-packages (from datasets>=1.8.0->-r examples/pytorch/summarization/requirements.txt (line 2)) (1.2.2)\n",
      "Requirement already satisfied: tqdm>=4.62.1 in /home/ec2-user/anaconda3/envs/mxnet_latest_p37/lib/python3.7/site-packages (from datasets>=1.8.0->-r examples/pytorch/summarization/requirements.txt (line 2)) (4.62.3)\n",
      "Requirement already satisfied: requests>=2.19.0 in /home/ec2-user/anaconda3/envs/mxnet_latest_p37/lib/python3.7/site-packages (from datasets>=1.8.0->-r examples/pytorch/summarization/requirements.txt (line 2)) (2.25.1)\n",
      "Requirement already satisfied: dill in /home/ec2-user/anaconda3/envs/mxnet_latest_p37/lib/python3.7/site-packages (from datasets>=1.8.0->-r examples/pytorch/summarization/requirements.txt (line 2)) (0.3.4)\n",
      "Requirement already satisfied: aiohttp in /home/ec2-user/anaconda3/envs/mxnet_latest_p37/lib/python3.7/site-packages (from datasets>=1.8.0->-r examples/pytorch/summarization/requirements.txt (line 2)) (3.7.4.post0)\n",
      "Requirement already satisfied: huggingface-hub<0.1.0,>=0.0.19 in /home/ec2-user/anaconda3/envs/mxnet_latest_p37/lib/python3.7/site-packages (from datasets>=1.8.0->-r examples/pytorch/summarization/requirements.txt (line 2)) (0.0.19)\n",
      "Requirement already satisfied: importlib-metadata in /home/ec2-user/anaconda3/envs/mxnet_latest_p37/lib/python3.7/site-packages (from datasets>=1.8.0->-r examples/pytorch/summarization/requirements.txt (line 2)) (3.7.0)\n",
      "Requirement already satisfied: fsspec[http]>=2021.05.0 in /home/ec2-user/anaconda3/envs/mxnet_latest_p37/lib/python3.7/site-packages (from datasets>=1.8.0->-r examples/pytorch/summarization/requirements.txt (line 2)) (2021.10.1)\n",
      "Requirement already satisfied: packaging in /home/ec2-user/anaconda3/envs/mxnet_latest_p37/lib/python3.7/site-packages (from datasets>=1.8.0->-r examples/pytorch/summarization/requirements.txt (line 2)) (20.9)\n",
      "Requirement already satisfied: multiprocess in /home/ec2-user/anaconda3/envs/mxnet_latest_p37/lib/python3.7/site-packages (from datasets>=1.8.0->-r examples/pytorch/summarization/requirements.txt (line 2)) (0.70.12.2)\n",
      "Requirement already satisfied: xxhash in /home/ec2-user/anaconda3/envs/mxnet_latest_p37/lib/python3.7/site-packages (from datasets>=1.8.0->-r examples/pytorch/summarization/requirements.txt (line 2)) (2.0.2)\n",
      "Requirement already satisfied: six>=1.9 in /home/ec2-user/anaconda3/envs/mxnet_latest_p37/lib/python3.7/site-packages (from protobuf->-r examples/pytorch/summarization/requirements.txt (line 4)) (1.15.0)\n",
      "Requirement already satisfied: absl-py in /home/ec2-user/anaconda3/envs/mxnet_latest_p37/lib/python3.7/site-packages (from rouge-score->-r examples/pytorch/summarization/requirements.txt (line 5)) (0.15.0)\n",
      "Requirement already satisfied: pyppmd>=0.17.0 in /home/ec2-user/anaconda3/envs/mxnet_latest_p37/lib/python3.7/site-packages (from py7zr->-r examples/pytorch/summarization/requirements.txt (line 7)) (0.17.1)\n",
      "Requirement already satisfied: texttable in /home/ec2-user/anaconda3/envs/mxnet_latest_p37/lib/python3.7/site-packages (from py7zr->-r examples/pytorch/summarization/requirements.txt (line 7)) (1.6.4)\n",
      "Requirement already satisfied: brotli>=1.0.9 in /home/ec2-user/anaconda3/envs/mxnet_latest_p37/lib/python3.7/site-packages (from py7zr->-r examples/pytorch/summarization/requirements.txt (line 7)) (1.0.9)\n",
      "Requirement already satisfied: multivolumefile>=0.2.3 in /home/ec2-user/anaconda3/envs/mxnet_latest_p37/lib/python3.7/site-packages (from py7zr->-r examples/pytorch/summarization/requirements.txt (line 7)) (0.2.3)\n",
      "Requirement already satisfied: pycryptodomex>=3.6.6 in /home/ec2-user/anaconda3/envs/mxnet_latest_p37/lib/python3.7/site-packages (from py7zr->-r examples/pytorch/summarization/requirements.txt (line 7)) (3.11.0)\n",
      "Requirement already satisfied: pybcj>=0.5.0 in /home/ec2-user/anaconda3/envs/mxnet_latest_p37/lib/python3.7/site-packages (from py7zr->-r examples/pytorch/summarization/requirements.txt (line 7)) (0.5.0)\n",
      "Requirement already satisfied: pyzstd>=0.14.4 in /home/ec2-user/anaconda3/envs/mxnet_latest_p37/lib/python3.7/site-packages (from py7zr->-r examples/pytorch/summarization/requirements.txt (line 7)) (0.15.0)\n",
      "Requirement already satisfied: typing-extensions in /home/ec2-user/anaconda3/envs/mxnet_latest_p37/lib/python3.7/site-packages (from torch>=1.3->-r examples/pytorch/summarization/requirements.txt (line 8)) (3.10.0.2)\n",
      "Requirement already satisfied: filelock in /home/ec2-user/anaconda3/envs/mxnet_latest_p37/lib/python3.7/site-packages (from huggingface-hub<0.1.0,>=0.0.19->datasets>=1.8.0->-r examples/pytorch/summarization/requirements.txt (line 2)) (3.0.12)\n",
      "Requirement already satisfied: pyparsing>=2.0.2 in /home/ec2-user/anaconda3/envs/mxnet_latest_p37/lib/python3.7/site-packages (from packaging->datasets>=1.8.0->-r examples/pytorch/summarization/requirements.txt (line 2)) (2.4.7)\n",
      "Requirement already satisfied: idna<3,>=2.5 in /home/ec2-user/anaconda3/envs/mxnet_latest_p37/lib/python3.7/site-packages (from requests>=2.19.0->datasets>=1.8.0->-r examples/pytorch/summarization/requirements.txt (line 2)) (2.10)\n",
      "Requirement already satisfied: urllib3<1.27,>=1.21.1 in /home/ec2-user/anaconda3/envs/mxnet_latest_p37/lib/python3.7/site-packages (from requests>=2.19.0->datasets>=1.8.0->-r examples/pytorch/summarization/requirements.txt (line 2)) (1.26.6)\n",
      "Requirement already satisfied: certifi>=2017.4.17 in /home/ec2-user/anaconda3/envs/mxnet_latest_p37/lib/python3.7/site-packages (from requests>=2.19.0->datasets>=1.8.0->-r examples/pytorch/summarization/requirements.txt (line 2)) (2021.5.30)\n",
      "Requirement already satisfied: chardet<5,>=3.0.2 in /home/ec2-user/anaconda3/envs/mxnet_latest_p37/lib/python3.7/site-packages (from requests>=2.19.0->datasets>=1.8.0->-r examples/pytorch/summarization/requirements.txt (line 2)) (3.0.4)\n",
      "Requirement already satisfied: async-timeout<4.0,>=3.0 in /home/ec2-user/anaconda3/envs/mxnet_latest_p37/lib/python3.7/site-packages (from aiohttp->datasets>=1.8.0->-r examples/pytorch/summarization/requirements.txt (line 2)) (3.0.1)\n",
      "Requirement already satisfied: yarl<2.0,>=1.0 in /home/ec2-user/anaconda3/envs/mxnet_latest_p37/lib/python3.7/site-packages (from aiohttp->datasets>=1.8.0->-r examples/pytorch/summarization/requirements.txt (line 2)) (1.6.3)\n",
      "Requirement already satisfied: attrs>=17.3.0 in /home/ec2-user/anaconda3/envs/mxnet_latest_p37/lib/python3.7/site-packages (from aiohttp->datasets>=1.8.0->-r examples/pytorch/summarization/requirements.txt (line 2)) (20.3.0)\n",
      "Requirement already satisfied: multidict<7.0,>=4.5 in /home/ec2-user/anaconda3/envs/mxnet_latest_p37/lib/python3.7/site-packages (from aiohttp->datasets>=1.8.0->-r examples/pytorch/summarization/requirements.txt (line 2)) (5.1.0)\n",
      "Requirement already satisfied: zipp>=0.5 in /home/ec2-user/anaconda3/envs/mxnet_latest_p37/lib/python3.7/site-packages (from importlib-metadata->datasets>=1.8.0->-r examples/pytorch/summarization/requirements.txt (line 2)) (3.4.0)\n",
      "Requirement already satisfied: python-dateutil>=2.7.3 in /home/ec2-user/anaconda3/envs/mxnet_latest_p37/lib/python3.7/site-packages (from pandas->datasets>=1.8.0->-r examples/pytorch/summarization/requirements.txt (line 2)) (2.8.1)\n",
      "Requirement already satisfied: pytz>=2017.3 in /home/ec2-user/anaconda3/envs/mxnet_latest_p37/lib/python3.7/site-packages (from pandas->datasets>=1.8.0->-r examples/pytorch/summarization/requirements.txt (line 2)) (2021.1)\n",
      "\u001b[33mWARNING: You are using pip version 21.2.4; however, version 21.3 is available.\n",
      "You should consider upgrading via the '/home/ec2-user/anaconda3/envs/mxnet_latest_p37/bin/python -m pip install --upgrade pip' command.\u001b[0m\n"
     ]
    }
   ],
   "source": [
    "!pip install -r examples/pytorch/summarization/requirements.txt"
   ]
  },
  {
   "cell_type": "code",
   "execution_count": 1,
   "id": "d9d7f400",
   "metadata": {},
   "outputs": [
    {
     "ename": "ModuleNotFoundError",
     "evalue": "No module named 'transformer'",
     "output_type": "error",
     "traceback": [
      "\u001b[0;31m---------------------------------------------------------------------------\u001b[0m",
      "\u001b[0;31mModuleNotFoundError\u001b[0m                       Traceback (most recent call last)",
      "\u001b[0;32m<ipython-input-1-1c49d42d5583>\u001b[0m in \u001b[0;36m<module>\u001b[0;34m\u001b[0m\n\u001b[0;32m----> 1\u001b[0;31m \u001b[0;32mimport\u001b[0m \u001b[0mtransformer\u001b[0m\u001b[0;34m\u001b[0m\u001b[0;34m\u001b[0m\u001b[0m\n\u001b[0m",
      "\u001b[0;31mModuleNotFoundError\u001b[0m: No module named 'transformer'"
     ]
    }
   ],
   "source": [
    "import transformer"
   ]
  },
  {
   "cell_type": "code",
   "execution_count": null,
   "id": "fded7ce6",
   "metadata": {},
   "outputs": [],
   "source": [
    "!nohup python -u examples/pytorch/summarization/run_summarization.py \\\n",
    "--model_name_or_path facebook/bart-large-cnn \\\n",
    "--do_train \\\n",
    "--do_eval \\\n",
    "--per_device_train_batch_size=2 \\\n",
    "--per_device_eval_batch_size=1 \\\n",
    "--save_strategy epoch \\\n",
    "--evaluation_strategy epoch \\\n",
    "--overwrite_output_dir \\\n",
    "--predict_with_generate \\\n",
    "--train_file '/home/ec2-user/SageMaker/琥珀/summary/data/hp/news_summary_train.csv' \\\n",
    "--validation_file '/home/ec2-user/SageMaker/琥珀/summary/data/hp/news_summary_test.csv' \\\n",
    "--text_column 'text' \\\n",
    "--summary_column 'headlines' \\\n",
    "--output_dir='./bart-hp' \\\n",
    "--num_train_epochs=30.0 \\\n",
    "--save_total_limit=100 \\\n",
    "--source_prefix \"summarize: \" > train_bart.log 2>&1 &"
   ]
  },
  {
   "cell_type": "code",
   "execution_count": 3,
   "id": "8d7bd74c",
   "metadata": {},
   "outputs": [
    {
     "ename": "OSError",
     "evalue": "Background processes not supported.",
     "output_type": "error",
     "traceback": [
      "\u001b[0;31m---------------------------------------------------------------------------\u001b[0m",
      "\u001b[0;31mOSError\u001b[0m                                   Traceback (most recent call last)",
      "\u001b[0;32m<ipython-input-3-4b15e56dccc2>\u001b[0m in \u001b[0;36m<module>\u001b[0;34m\u001b[0m\n\u001b[0;32m----> 1\u001b[0;31m \u001b[0mget_ipython\u001b[0m\u001b[0;34m(\u001b[0m\u001b[0;34m)\u001b[0m\u001b[0;34m.\u001b[0m\u001b[0msystem\u001b[0m\u001b[0;34m(\u001b[0m\u001b[0;34m'nohup python -u examples/pytorch/summarization/run_summarization.py  --model_name_or_path ./pegasus-hp/checkpoint-50000  --do_eval  --output_dir /tmp/tst-summarization  --per_device_train_batch_size=4  --per_device_eval_batch_size=4  --overwrite_output_dir  --predict_with_generate  --train_file \\'/home/ec2-user/SageMaker/琥珀/summary/data/hp/news_summary_train.csv\\'  --validation_file \\'/home/ec2-user/SageMaker/琥珀/summary/data/hp/news_summary_test.csv\\'  --test_file \\'/home/ec2-user/SageMaker/琥珀/summary/data/hp/news_summary_test.csv\\'  --text_column \\'text\\'  --summary_column \\'headlines\\'  --output_dir=\\'./pegasus-hp\\'  --num_train_epochs=20.0  --eval_steps=1000  --save_total_limit=3  --source_prefix \"summarize: \" > eval.log 2>&1 &'\u001b[0m\u001b[0;34m)\u001b[0m\u001b[0;34m\u001b[0m\u001b[0;34m\u001b[0m\u001b[0m\n\u001b[0m",
      "\u001b[0;32m~/anaconda3/envs/mxnet_latest_p37/lib/python3.7/site-packages/ipykernel/zmqshell.py\u001b[0m in \u001b[0;36msystem_piped\u001b[0;34m(self, cmd)\u001b[0m\n\u001b[1;32m    630\u001b[0m             \u001b[0;31m# os.system() or use ip.system=ip.system_raw\u001b[0m\u001b[0;34m\u001b[0m\u001b[0;34m\u001b[0m\u001b[0;34m\u001b[0m\u001b[0m\n\u001b[1;32m    631\u001b[0m             \u001b[0;31m# if they really want a background process.\u001b[0m\u001b[0;34m\u001b[0m\u001b[0;34m\u001b[0m\u001b[0;34m\u001b[0m\u001b[0m\n\u001b[0;32m--> 632\u001b[0;31m             \u001b[0;32mraise\u001b[0m \u001b[0mOSError\u001b[0m\u001b[0;34m(\u001b[0m\u001b[0;34m\"Background processes not supported.\"\u001b[0m\u001b[0;34m)\u001b[0m\u001b[0;34m\u001b[0m\u001b[0;34m\u001b[0m\u001b[0m\n\u001b[0m\u001b[1;32m    633\u001b[0m \u001b[0;34m\u001b[0m\u001b[0m\n\u001b[1;32m    634\u001b[0m         \u001b[0;31m# we explicitly do NOT return the subprocess status code, because\u001b[0m\u001b[0;34m\u001b[0m\u001b[0;34m\u001b[0m\u001b[0;34m\u001b[0m\u001b[0m\n",
      "\u001b[0;31mOSError\u001b[0m: Background processes not supported."
     ]
    }
   ],
   "source": [
    "!nohup python -u examples/pytorch/summarization/run_summarization.py \\\n",
    "--model_name_or_path ./pegasus-hp/checkpoint-50000 \\\n",
    "--do_eval \\\n",
    "--output_dir /tmp/tst-summarization \\\n",
    "--per_device_train_batch_size=1 \\\n",
    "--per_device_eval_batch_size=1 \\\n",
    "--overwrite_output_dir \\\n",
    "--predict_with_generate \\\n",
    "--train_file '/home/ec2-user/SageMaker/琥珀/summary/data/hp/news_summary_train.csv' \\\n",
    "--validation_file '/home/ec2-user/SageMaker/琥珀/summary/data/hp/news_summary_test.csv' \\\n",
    "--test_file '/home/ec2-user/SageMaker/琥珀/summary/data/hp/news_summary_test.csv' \\\n",
    "--text_column 'text' \\\n",
    "--summary_column 'headlines' \\\n",
    "--output_dir='./pegasus-hp' \\\n",
    "--num_train_epochs=20.0 \\\n",
    "--eval_steps=1000 \\\n",
    "--save_total_limit=3 \\\n",
    "--source_prefix \"summarize: \" > eval.log 2>&1 &"
   ]
  },
  {
   "cell_type": "code",
   "execution_count": 22,
   "id": "50158664",
   "metadata": {},
   "outputs": [
    {
     "name": "stderr",
     "output_type": "stream",
     "text": [
      "Your max_length is set to 142, but you input_length is only 74. You might consider decreasing max_length manually, e.g. summarizer('...', max_length=50)\n"
     ]
    },
    {
     "data": {
      "text/plain": [
       "[{'summary_text': \"Ship with bodies reduced to skeletons washes up on Japan beach, 8 killed in 1st 'ghost shipÃ¢Â\\x80Â\\x89automotives'   Ã¢\\x80\\x8b-like event  useful \"}]"
      ]
     },
     "execution_count": 22,
     "metadata": {},
     "output_type": "execute_result"
    }
   ],
   "source": [
    "from transformers import pipeline\n",
    "summarizer = pipeline(\"summarization\", model=\"bart-hp/checkpoint-41168\")\n",
    "summarizer(\"A ship carrying bodies of 8 people partly reduced to skeletons washed up on Japan's Miyazawa beach on Monday, the Japan Coast Guard said. Crew-less boats or vessels with bodies on board, called 'ghost ships', regularly wash up in Japan. This comes after a group of men claiming to be North Korean fishermen washed onshore in the same area.\")"
   ]
  },
  {
   "cell_type": "code",
   "execution_count": 11,
   "id": "09fcbb7c",
   "metadata": {},
   "outputs": [
    {
     "name": "stdout",
     "output_type": "stream",
     "text": [
      "Sun Oct 24 03:38:00 2021       \n",
      "+-----------------------------------------------------------------------------+\n",
      "| NVIDIA-SMI 450.142.00   Driver Version: 450.142.00   CUDA Version: 11.0     |\n",
      "|-------------------------------+----------------------+----------------------+\n",
      "| GPU  Name        Persistence-M| Bus-Id        Disp.A | Volatile Uncorr. ECC |\n",
      "| Fan  Temp  Perf  Pwr:Usage/Cap|         Memory-Usage | GPU-Util  Compute M. |\n",
      "|                               |                      |               MIG M. |\n",
      "|===============================+======================+======================|\n",
      "|   0  Tesla V100-SXM2...  On   | 00000000:00:17.0 Off |                    0 |\n",
      "| N/A   62C    P0    83W / 300W |      0MiB / 16160MiB |      0%      Default |\n",
      "|                               |                      |                  N/A |\n",
      "+-------------------------------+----------------------+----------------------+\n",
      "|   1  Tesla V100-SXM2...  On   | 00000000:00:18.0 Off |                    0 |\n",
      "| N/A   43C    P0    45W / 300W |      0MiB / 16160MiB |      0%      Default |\n",
      "|                               |                      |                  N/A |\n",
      "+-------------------------------+----------------------+----------------------+\n",
      "|   2  Tesla V100-SXM2...  On   | 00000000:00:19.0 Off |                    0 |\n",
      "| N/A   41C    P0    46W / 300W |      0MiB / 16160MiB |      0%      Default |\n",
      "|                               |                      |                  N/A |\n",
      "+-------------------------------+----------------------+----------------------+\n",
      "|   3  Tesla V100-SXM2...  On   | 00000000:00:1A.0 Off |                    0 |\n",
      "| N/A   42C    P0    51W / 300W |      0MiB / 16160MiB |      0%      Default |\n",
      "|                               |                      |                  N/A |\n",
      "+-------------------------------+----------------------+----------------------+\n",
      "|   4  Tesla V100-SXM2...  On   | 00000000:00:1B.0 Off |                    0 |\n",
      "| N/A   44C    P0    46W / 300W |      0MiB / 16160MiB |      0%      Default |\n",
      "|                               |                      |                  N/A |\n",
      "+-------------------------------+----------------------+----------------------+\n",
      "|   5  Tesla V100-SXM2...  On   | 00000000:00:1C.0 Off |                    0 |\n",
      "| N/A   42C    P0    53W / 300W |      0MiB / 16160MiB |      0%      Default |\n",
      "|                               |                      |                  N/A |\n",
      "+-------------------------------+----------------------+----------------------+\n",
      "|   6  Tesla V100-SXM2...  On   | 00000000:00:1D.0 Off |                    0 |\n",
      "| N/A   39C    P0    49W / 300W |      0MiB / 16160MiB |      0%      Default |\n",
      "|                               |                      |                  N/A |\n",
      "+-------------------------------+----------------------+----------------------+\n",
      "|   7  Tesla V100-SXM2...  On   | 00000000:00:1E.0 Off |                    0 |\n",
      "| N/A   45C    P0    45W / 300W |      0MiB / 16160MiB |      0%      Default |\n",
      "|                               |                      |                  N/A |\n",
      "+-------------------------------+----------------------+----------------------+\n",
      "                                                                               \n",
      "+-----------------------------------------------------------------------------+\n",
      "| Processes:                                                                  |\n",
      "|  GPU   GI   CI        PID   Type   Process name                  GPU Memory |\n",
      "|        ID   ID                                                   Usage      |\n",
      "|=============================================================================|\n",
      "|  No running processes found                                                 |\n",
      "+-----------------------------------------------------------------------------+\n"
     ]
    }
   ],
   "source": [
    "from transformers import pipeline\n",
    "summarizer = pipeline(\"summarization\", model=\"pegasus-hp3/checkpoint-10292\")\n",
    "summarizer(\"Australian batsman Aaron Finch has become the first-ever player to represent seven teams in the IPL, after taking the field for Kings XI Punjab against Royal Challengers Bangalore on Friday. Before Kings XI Punjab, Finch had played for Rajasthan Royals (2010), Delhi Daredevils (2011-2012), Pune Warriors India (2013), SunRisers Hyderabad (2014), Mumbai Indians (2015) and Gujarat Lions (2016-2017).\")"
   ]
  },
  {
   "cell_type": "code",
   "execution_count": 9,
   "id": "957f4bb6",
   "metadata": {},
   "outputs": [],
   "source": [
    "!kill -9 100809"
   ]
  },
  {
   "cell_type": "code",
   "execution_count": null,
   "id": "57685166",
   "metadata": {},
   "outputs": [],
   "source": []
  }
 ],
 "metadata": {
  "kernelspec": {
   "display_name": "conda_mxnet_latest_p37",
   "language": "python",
   "name": "conda_mxnet_latest_p37"
  },
  "language_info": {
   "codemirror_mode": {
    "name": "ipython",
    "version": 3
   },
   "file_extension": ".py",
   "mimetype": "text/x-python",
   "name": "python",
   "nbconvert_exporter": "python",
   "pygments_lexer": "ipython3",
   "version": "3.7.10"
  }
 },
 "nbformat": 4,
 "nbformat_minor": 5
}
